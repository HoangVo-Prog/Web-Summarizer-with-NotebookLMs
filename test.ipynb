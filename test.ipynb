{
 "cells": [
  {
   "cell_type": "code",
   "id": "initial_id",
   "metadata": {
    "collapsed": true,
    "ExecuteTime": {
     "end_time": "2025-05-16T10:40:50.598973Z",
     "start_time": "2025-05-16T10:40:49.944533Z"
    }
   },
   "source": [
    "import pandas as pd\n",
    "import os\n",
    "import re"
   ],
   "outputs": [],
   "execution_count": 1
  },
  {
   "metadata": {
    "ExecuteTime": {
     "end_time": "2025-05-16T10:40:58.036990Z",
     "start_time": "2025-05-16T10:40:57.447619Z"
    }
   },
   "cell_type": "code",
   "source": "vfnd = pd.read_excel(os.path.join(os.getcwd(), \"Data\", \"vfnd_new.xlsx\"))",
   "id": "e4420c608e73dcd3",
   "outputs": [],
   "execution_count": 3
  },
  {
   "metadata": {
    "ExecuteTime": {
     "end_time": "2025-05-16T10:59:04.666459Z",
     "start_time": "2025-05-16T10:59:04.648874Z"
    }
   },
   "cell_type": "code",
   "source": [
    "# Bản đồ thay thế Unicode dị dạng sang ký tự tương đương\n",
    "unicode_map = {\n",
    "    # Cyrillic (trá hình tiếng Nga)\n",
    "    'т': 't', 'н': 'h', 'ᴘ': 'p', 'ʀ': 'r', 'κ': 'k', 'ɴ': 'n',\n",
    "    'ԍ': 'g', 'ʟ': 'l', 'ɢ': 'g', 'ᴅ': 'd', 'ᴋ': 'k', 'ʙ': 'b',\n",
    "    'ᴄ': 'c', 'ᴏ': 'o', 'ʏ': 'y', 'ᴇ': 'e', 'м': 'm', 'в': 'b',\n",
    "    # Unicode Latin kiểu fancy\n",
    "    'ᴛ': 't', 'ᴜ': 'u', 'ɪ': 'i', 'ʜ': 'h', 'ɒ': 'o',\n",
    "    'ʊ': 'u', 'ɪ': 'i', 'ᴇ': 'e', 'ᴍ': 'm', 'ι': 'i'\n",
    "}\n"
   ],
   "id": "641df530841369c9",
   "outputs": [],
   "execution_count": 16
  },
  {
   "metadata": {
    "ExecuteTime": {
     "end_time": "2025-05-16T10:57:34.507808Z",
     "start_time": "2025-05-16T10:57:34.498198Z"
    }
   },
   "cell_type": "code",
   "source": [
    "def remove_non_vietnamese_chars(text):\n",
    "    return re.sub(r\"[^\\w\\sÀÁÂÃÈÉÊÌÍÒÓÔÕÙÚĂĐĨŨƠàáâãèéêìíòóôõùúăđĩũơ\"\n",
    "                  r\"ƯĂÂÊÔƠƯăâêôơưÁÉÍÓÚÝàáèéìíòóùúýĂĐÊÔƠƯăđêôơưýý\"\n",
    "                  r\"A-Za-z0-9\\s.,!?'-]\", \"\", text)\n"
   ],
   "id": "dbd42094b0b85bc",
   "outputs": [],
   "execution_count": 12
  },
  {
   "metadata": {
    "ExecuteTime": {
     "end_time": "2025-05-16T11:03:25.939733Z",
     "start_time": "2025-05-16T11:03:25.931745Z"
    }
   },
   "cell_type": "code",
   "source": [
    "def clean_unicode_text(text):\n",
    "    # Handle NaN values or non-string inputs\n",
    "    if pd.isna(text) or not isinstance(text, str):\n",
    "        return text\n",
    "    return ''.join(unicode_map.get(char, char) for char in text)\n",
    "\n",
    "def normalize_for_search(text):\n",
    "    # If text is NaN or not a string, return as is\n",
    "    if pd.isna(text) or not isinstance(text, str):\n",
    "        return text\n",
    "    text = clean_unicode_text(text)\n",
    "    text = remove_non_vietnamese_chars(text)\n",
    "    return text"
   ],
   "id": "477fec094f4b2cc6",
   "outputs": [],
   "execution_count": 23
  },
  {
   "metadata": {
    "ExecuteTime": {
     "end_time": "2025-05-16T11:03:30.605104Z",
     "start_time": "2025-05-16T11:03:30.218690Z"
    }
   },
   "cell_type": "code",
   "source": [
    "vfnd['text'] = vfnd['text'].apply(normalize_for_search)\n",
    "vfnd['description'] = vfnd['description'].apply(normalize_for_search)\n",
    "vfnd['title'] = vfnd['title'].apply(normalize_for_search)\n",
    "vfnd.to_excel('vfnd_new_normalize.xlsx', index=False)\n"
   ],
   "id": "a6276b94c5d0b5b4",
   "outputs": [],
   "execution_count": 24
  },
  {
   "metadata": {
    "ExecuteTime": {
     "end_time": "2025-05-16T11:24:19.858668Z",
     "start_time": "2025-05-16T11:24:19.799293Z"
    }
   },
   "cell_type": "code",
   "source": [
    "from newspaper import Article\n",
    "\n",
    "def get_article_with_newspaper(url, language='vi'):\n",
    "    try:\n",
    "        article = Article(url, language=language)\n",
    "        article.download()\n",
    "        article.parse()\n",
    "        return article.text\n",
    "    except Exception as e:\n",
    "        print(f\"❌ Newspaper không lấy được nội dung: {e}\")\n",
    "        return \"\"\n"
   ],
   "id": "67d519b7294a1e67",
   "outputs": [],
   "execution_count": 9
  },
  {
   "metadata": {
    "ExecuteTime": {
     "end_time": "2025-05-16T11:24:22.438247Z",
     "start_time": "2025-05-16T11:24:21.994743Z"
    }
   },
   "cell_type": "code",
   "source": [
    "url = \"https://thanhnien.vn/len-mang-cung-phai-uon-luoi-7-lan-1851046458.htm\"\n",
    "content = get_article_with_newspaper(url)\n",
    "print(content)\n",
    "\n",
    "driver.quit()"
   ],
   "id": "73b55b5f70e61dcc",
   "outputs": [
    {
     "name": "stdout",
     "output_type": "stream",
     "text": [
      "Số là từ hôm 30 Tết Tân Sửu, do bức xúc vì bị tổ tuần tra Công an xã Vĩnh Tú mời về trụ sở UBND xã để nhắc nhở về hành vi điều khiển phương tiện xe máy không đội mũ bảo hiểm nên H. dùng tài khoản Facebook của mình với cái tên khá “kêu” là “Đại gia chân đất” để đăng tải bài viết xúc phạm danh dự, nhân phẩm đối với một công an xã này.\n",
      "\n",
      "Sau đó, Công an H.Vĩnh Linh xác minh vụ việc và ngày 8.3, Giám đốc Công an tỉnh Quảng Trị ra quyết định xử phạt vi phạm hành chính 5 triệu đồng đối với H. vì đã đăng tải bài viết có nội dung nói xấu, xúc phạm danh dự nhân phẩm của người khác, vi phạm khoản 1, điều 5, Nghị định 72/2013/NĐ-CP về quản lý, cung cấp, sử dụng dịch vụ internet và thông tin trên mạng.\n",
      "\n",
      "Nhưng sự việc của “đại gia” này vẫn chưa đủ bi hài so với câu chuyện của một thiếu nữ ở Thừa Thiên - Huế. Vào một thời điểm bốc đồng, cụ thể là lúc 14 giờ ngày 2.3, P.N.T.N (22 tuổi, trú P.Vỹ Dạ, TP.Huế, Thừa Thiên - Huế) đăng lên trang cá nhân của mình dòng nội dung: “Chính thức: Chính sách một vợ được lấy nhiều chồng để giải quyết tình trạng dư thừa nam giới ”.\n",
      "\n",
      "Từ phản ánh của “cộng đồng mạng”, Thanh tra Sở TT-TT tỉnh Thừa Thiên - Huế đã lần ra được N. và cái giá mà người này phải trả là phải nộp khoản tiền phạt 5 triệu đồng vì hành vi đăng tải nội dung sai sự thật về chính sách luật Hôn nhân và gia đình.\n",
      "\n",
      "Cổ nhân từng có câu “Uốn lưỡi 7 lần trước khi nói” để răn dạy đời sau phải suy nghĩ thật kỹ trước khi nói ra điều gì đó. Bởi “lời nói là đọi máu”, nói đúng không sao nhưng nói sai, nói xằng thì không rút lại được và để lại những hậu quả, những sứt mẻ đáng tiếc. Giờ đây, trên mạng xã hội cũng vậy, qua rồi thời người ta muốn viết nhăng viết cuội trên mạng ảo thế nào cũng được. Lên mạng bây giờ, cũng phải tập... uốn lưỡi 7 lần!\n"
     ]
    }
   ],
   "execution_count": 10
  }
 ],
 "metadata": {
  "kernelspec": {
   "display_name": "Python 3",
   "language": "python",
   "name": "python3"
  },
  "language_info": {
   "codemirror_mode": {
    "name": "ipython",
    "version": 2
   },
   "file_extension": ".py",
   "mimetype": "text/x-python",
   "name": "python",
   "nbconvert_exporter": "python",
   "pygments_lexer": "ipython2",
   "version": "2.7.6"
  }
 },
 "nbformat": 4,
 "nbformat_minor": 5
}
